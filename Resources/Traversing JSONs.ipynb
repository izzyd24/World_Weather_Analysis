{
 "cells": [
  {
   "cell_type": "code",
   "execution_count": null,
   "id": "5de0e6d0",
   "metadata": {},
   "outputs": [],
   "source": [
    "import requests\n",
    "import config import api_key\n"
   ]
  },
  {
   "cell_type": "code",
   "execution_count": null,
   "id": "5f6070b3",
   "metadata": {},
   "outputs": [],
   "source": [
    "url = \"http://api.openweathermap.org/data/2.5/weather?units=Imperial&APPID=\"\n",
    "city = \"London\""
   ]
  },
  {
   "cell_type": "code",
   "execution_count": null,
   "id": "8fa4c675",
   "metadata": {},
   "outputs": [],
   "source": [
    "query_url = url+\"appid\"+\"&q=\"+ctiy\n"
   ]
  },
  {
   "cell_type": "code",
   "execution_count": null,
   "id": "6e2cdde9",
   "metadata": {},
   "outputs": [],
   "source": [
    "# convert the API request to JSON\n",
    "weather_response = requests.get(query_url)\n",
    "weather_json = weather_response\n"
   ]
  },
  {
   "cell_type": "code",
   "execution_count": null,
   "id": "7f5498ca",
   "metadata": {},
   "outputs": [],
   "source": [
    "weather_json.keys()"
   ]
  },
  {
   "cell_type": "code",
   "execution_count": null,
   "id": "c22cad9d",
   "metadata": {},
   "outputs": [],
   "source": [
    "# when vague data labels, may need to look more closely by using .get()\n",
    "# example if we didn't know a label \n",
    "weather_json.get(\"main\")\n",
    "\n",
    "# shows its outputs, and what it tracks "
   ]
  },
  {
   "cell_type": "code",
   "execution_count": null,
   "id": "94394667",
   "metadata": {},
   "outputs": [],
   "source": []
  }
 ],
 "metadata": {
  "kernelspec": {
   "display_name": "PythonData",
   "language": "python",
   "name": "pythondata"
  },
  "language_info": {
   "codemirror_mode": {
    "name": "ipython",
    "version": 3
   },
   "file_extension": ".py",
   "mimetype": "text/x-python",
   "name": "python",
   "nbconvert_exporter": "python",
   "pygments_lexer": "ipython3",
   "version": "3.7.11"
  }
 },
 "nbformat": 4,
 "nbformat_minor": 5
}
