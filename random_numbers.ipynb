{
 "cells": [
  {
   "cell_type": "code",
   "execution_count": 26,
   "id": "f3f056e6",
   "metadata": {},
   "outputs": [
    {
     "data": {
      "text/plain": [
       "0.6579753981102143"
      ]
     },
     "execution_count": 26,
     "metadata": {},
     "output_type": "execute_result"
    }
   ],
   "source": [
    "import random \n",
    "import numpy as np\n",
    "import timeit\n",
    "random.random()"
   ]
  },
  {
   "cell_type": "code",
   "execution_count": 6,
   "id": "6f6216c8",
   "metadata": {},
   "outputs": [
    {
     "data": {
      "text/plain": [
       "-70"
      ]
     },
     "execution_count": 6,
     "metadata": {},
     "output_type": "execute_result"
    }
   ],
   "source": [
    "random.randint(-90,90)"
   ]
  },
  {
   "cell_type": "code",
   "execution_count": 4,
   "id": "765e6c10",
   "metadata": {},
   "outputs": [
    {
     "data": {
      "text/plain": [
       "5"
      ]
     },
     "execution_count": 4,
     "metadata": {},
     "output_type": "execute_result"
    }
   ],
   "source": [
    "random.randrange(-9,9,2)"
   ]
  },
  {
   "cell_type": "code",
   "execution_count": 5,
   "id": "10565070",
   "metadata": {},
   "outputs": [
    {
     "data": {
      "text/plain": [
       "-3.6892707277235104"
      ]
     },
     "execution_count": 5,
     "metadata": {},
     "output_type": "execute_result"
    }
   ],
   "source": [
    "random.uniform(-10,10)"
   ]
  },
  {
   "cell_type": "code",
   "execution_count": 7,
   "id": "9fe85032",
   "metadata": {},
   "outputs": [
    {
     "data": {
      "text/plain": [
       "31.972514281480525"
      ]
     },
     "execution_count": 7,
     "metadata": {},
     "output_type": "execute_result"
    }
   ],
   "source": [
    "random_number = random.randint(-90, 89) + random.random()\n",
    "random_number"
   ]
  },
  {
   "cell_type": "code",
   "execution_count": 14,
   "id": "8c1bdc10",
   "metadata": {},
   "outputs": [
    {
     "name": "stdout",
     "output_type": "stream",
     "text": [
      "[-66.3395895107771, 82.16429975415248, 2.842572388467505, -18.672337903059326, -82.42058908818633, 54.861469141650026, -7.089079235996453, -88.78898768999642, -3.18666814276259, 19.450543236720648]\n"
     ]
    }
   ],
   "source": [
    "# initial algo for lat. points between -90 and 89 \n",
    "x = 1 \n",
    "latitudes = []\n",
    "while x < 11: \n",
    "    random_lat = random.randint(-90,89) + random.random()\n",
    "    latitudes.append(random_lat)\n",
    "    x+=1\n",
    "print(latitudes)"
   ]
  },
  {
   "cell_type": "code",
   "execution_count": 19,
   "id": "a53fbfec",
   "metadata": {},
   "outputs": [
    {
     "data": {
      "text/plain": [
       "-54"
      ]
     },
     "execution_count": 19,
     "metadata": {},
     "output_type": "execute_result"
    }
   ],
   "source": [
    "# initial for long. points between -90 and 90 \n",
    "random.randrange(-90,90, step = 3)"
   ]
  },
  {
   "cell_type": "code",
   "execution_count": 20,
   "id": "836c1bb4",
   "metadata": {},
   "outputs": [
    {
     "data": {
      "text/plain": [
       "80.32614437157062"
      ]
     },
     "execution_count": 20,
     "metadata": {},
     "output_type": "execute_result"
    }
   ],
   "source": [
    "# uniform function example \n",
    "random.uniform(-90,90)\n"
   ]
  },
  {
   "cell_type": "code",
   "execution_count": 22,
   "id": "b0e88014",
   "metadata": {},
   "outputs": [
    {
     "data": {
      "text/plain": [
       "35.02875676088624"
      ]
     },
     "execution_count": 22,
     "metadata": {},
     "output_type": "execute_result"
    }
   ],
   "source": [
    "np.random.uniform(-90.000, 90.000)"
   ]
  },
  {
   "cell_type": "code",
   "execution_count": 28,
   "id": "7a508dec",
   "metadata": {},
   "outputs": [
    {
     "name": "stdout",
     "output_type": "stream",
     "text": [
      "9.66 µs ± 245 ns per loop (mean ± std. dev. of 7 runs, 100000 loops each)\n"
     ]
    }
   ],
   "source": [
    "# add size paramater to then have more than one floating decimal point\n",
    "# added timeit magic command to test how long the code runs for \n",
    "%timeit np.random.uniform(-90.000, 90.000, size = 1500)\n",
    "\n",
    "# output shows in microseconds how long it takes to run it for 7 runs\n",
    "# and for 1000 loops in each of those 7 runs"
   ]
  },
  {
   "cell_type": "code",
   "execution_count": 29,
   "id": "21466feb",
   "metadata": {},
   "outputs": [
    {
     "name": "stdout",
     "output_type": "stream",
     "text": [
      "1.23 ms ± 14.1 µs per loop (mean ± std. dev. of 7 runs, 1000 loops each)\n"
     ]
    }
   ],
   "source": [
    "def lat(size):\n",
    "    lat = []\n",
    "    x = 0\n",
    "    while x < (size): \n",
    "        randomlat = random.randint(-90,90)+ random.random()\n",
    "        lat.append(randomlat)\n",
    "        x+=1\n",
    "    return lat \n",
    "# call the function w/ 1500 \n",
    "%timeit lat(1500)\n",
    "\n",
    "# output shows 1.23 milliseconds, much faster than before for the 7 runs"
   ]
  },
  {
   "cell_type": "code",
   "execution_count": null,
   "id": "5f798159",
   "metadata": {},
   "outputs": [],
   "source": []
  }
 ],
 "metadata": {
  "kernelspec": {
   "display_name": "PythonData",
   "language": "python",
   "name": "pythondata"
  },
  "language_info": {
   "codemirror_mode": {
    "name": "ipython",
    "version": 3
   },
   "file_extension": ".py",
   "mimetype": "text/x-python",
   "name": "python",
   "nbconvert_exporter": "python",
   "pygments_lexer": "ipython3",
   "version": "3.7.11"
  }
 },
 "nbformat": 4,
 "nbformat_minor": 5
}
